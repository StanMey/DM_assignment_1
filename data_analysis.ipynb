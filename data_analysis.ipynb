{
 "cells": [
  {
   "cell_type": "markdown",
   "metadata": {},
   "source": [
    "# Data Mining Assignment 1\n",
    "## Part 2: Data Analysis\n",
    "### Data Preprocessing"
   ]
  },
  {
   "cell_type": "code",
   "execution_count": 1,
   "metadata": {},
   "outputs": [],
   "source": [
    "import numpy as np\n",
    "import pandas as pd\n",
    "from sklearn.linear_model import LogisticRegression\n",
    "from sklearn.metrics import accuracy_score, precision_score, recall_score"
   ]
  },
  {
   "cell_type": "code",
   "execution_count": 2,
   "metadata": {},
   "outputs": [
    {
     "name": "stderr",
     "output_type": "stream",
     "text": [
      "C:\\Users\\denbe\\AppData\\Local\\Temp\\ipykernel_8748\\4246145913.py:7: SettingWithCopyWarning: \n",
      "A value is trying to be set on a copy of a slice from a DataFrame.\n",
      "Try using .loc[row_indexer,col_indexer] = value instead\n",
      "\n",
      "See the caveats in the documentation: https://pandas.pydata.org/pandas-docs/stable/user_guide/indexing.html#returning-a-view-versus-a-copy\n",
      "  X_train[\"pre\"] = df_train[\"pre\"]\n"
     ]
    },
    {
     "data": {
      "text/html": [
       "<div>\n",
       "<style scoped>\n",
       "    .dataframe tbody tr th:only-of-type {\n",
       "        vertical-align: middle;\n",
       "    }\n",
       "\n",
       "    .dataframe tbody tr th {\n",
       "        vertical-align: top;\n",
       "    }\n",
       "\n",
       "    .dataframe thead th {\n",
       "        text-align: right;\n",
       "    }\n",
       "</style>\n",
       "<table border=\"1\" class=\"dataframe\">\n",
       "  <thead>\n",
       "    <tr style=\"text-align: right;\">\n",
       "      <th></th>\n",
       "      <th>ACD_avg</th>\n",
       "      <th>ACD_max</th>\n",
       "      <th>ACD_sum</th>\n",
       "      <th>FOUT_avg</th>\n",
       "      <th>FOUT_max</th>\n",
       "      <th>FOUT_sum</th>\n",
       "      <th>MLOC_avg</th>\n",
       "      <th>MLOC_max</th>\n",
       "      <th>MLOC_sum</th>\n",
       "      <th>NBD_avg</th>\n",
       "      <th>...</th>\n",
       "      <th>PAR_avg</th>\n",
       "      <th>PAR_max</th>\n",
       "      <th>PAR_sum</th>\n",
       "      <th>TLOC_avg</th>\n",
       "      <th>TLOC_max</th>\n",
       "      <th>TLOC_sum</th>\n",
       "      <th>VG_avg</th>\n",
       "      <th>VG_max</th>\n",
       "      <th>VG_sum</th>\n",
       "      <th>pre</th>\n",
       "    </tr>\n",
       "  </thead>\n",
       "  <tbody>\n",
       "    <tr>\n",
       "      <th>0</th>\n",
       "      <td>0.571429</td>\n",
       "      <td>4.0</td>\n",
       "      <td>4.0</td>\n",
       "      <td>5.980769</td>\n",
       "      <td>29.0</td>\n",
       "      <td>311.0</td>\n",
       "      <td>9.230769</td>\n",
       "      <td>55.0</td>\n",
       "      <td>480.0</td>\n",
       "      <td>1.826923</td>\n",
       "      <td>...</td>\n",
       "      <td>1.173077</td>\n",
       "      <td>4.0</td>\n",
       "      <td>61.0</td>\n",
       "      <td>112.000000</td>\n",
       "      <td>277.0</td>\n",
       "      <td>784.0</td>\n",
       "      <td>2.576923</td>\n",
       "      <td>11.0</td>\n",
       "      <td>134.0</td>\n",
       "      <td>5</td>\n",
       "    </tr>\n",
       "    <tr>\n",
       "      <th>1</th>\n",
       "      <td>0.000000</td>\n",
       "      <td>0.0</td>\n",
       "      <td>0.0</td>\n",
       "      <td>4.000000</td>\n",
       "      <td>22.0</td>\n",
       "      <td>168.0</td>\n",
       "      <td>6.666667</td>\n",
       "      <td>32.0</td>\n",
       "      <td>280.0</td>\n",
       "      <td>1.357143</td>\n",
       "      <td>...</td>\n",
       "      <td>1.095238</td>\n",
       "      <td>4.0</td>\n",
       "      <td>46.0</td>\n",
       "      <td>140.000000</td>\n",
       "      <td>386.0</td>\n",
       "      <td>420.0</td>\n",
       "      <td>2.333333</td>\n",
       "      <td>15.0</td>\n",
       "      <td>98.0</td>\n",
       "      <td>2</td>\n",
       "    </tr>\n",
       "    <tr>\n",
       "      <th>2</th>\n",
       "      <td>1.238095</td>\n",
       "      <td>14.0</td>\n",
       "      <td>26.0</td>\n",
       "      <td>4.321267</td>\n",
       "      <td>33.0</td>\n",
       "      <td>955.0</td>\n",
       "      <td>7.027149</td>\n",
       "      <td>83.0</td>\n",
       "      <td>1553.0</td>\n",
       "      <td>1.452489</td>\n",
       "      <td>...</td>\n",
       "      <td>0.800905</td>\n",
       "      <td>4.0</td>\n",
       "      <td>177.0</td>\n",
       "      <td>116.000000</td>\n",
       "      <td>679.0</td>\n",
       "      <td>2436.0</td>\n",
       "      <td>2.045249</td>\n",
       "      <td>19.0</td>\n",
       "      <td>452.0</td>\n",
       "      <td>9</td>\n",
       "    </tr>\n",
       "    <tr>\n",
       "      <th>3</th>\n",
       "      <td>0.555556</td>\n",
       "      <td>4.0</td>\n",
       "      <td>5.0</td>\n",
       "      <td>3.752941</td>\n",
       "      <td>80.0</td>\n",
       "      <td>319.0</td>\n",
       "      <td>6.517647</td>\n",
       "      <td>118.0</td>\n",
       "      <td>554.0</td>\n",
       "      <td>1.564706</td>\n",
       "      <td>...</td>\n",
       "      <td>1.517647</td>\n",
       "      <td>7.0</td>\n",
       "      <td>129.0</td>\n",
       "      <td>99.444444</td>\n",
       "      <td>219.0</td>\n",
       "      <td>895.0</td>\n",
       "      <td>2.411765</td>\n",
       "      <td>32.0</td>\n",
       "      <td>205.0</td>\n",
       "      <td>2</td>\n",
       "    </tr>\n",
       "    <tr>\n",
       "      <th>4</th>\n",
       "      <td>2.000000</td>\n",
       "      <td>5.0</td>\n",
       "      <td>18.0</td>\n",
       "      <td>6.552632</td>\n",
       "      <td>63.0</td>\n",
       "      <td>996.0</td>\n",
       "      <td>10.736842</td>\n",
       "      <td>75.0</td>\n",
       "      <td>1632.0</td>\n",
       "      <td>2.052632</td>\n",
       "      <td>...</td>\n",
       "      <td>0.796053</td>\n",
       "      <td>4.0</td>\n",
       "      <td>121.0</td>\n",
       "      <td>253.444444</td>\n",
       "      <td>724.0</td>\n",
       "      <td>2281.0</td>\n",
       "      <td>2.809211</td>\n",
       "      <td>21.0</td>\n",
       "      <td>427.0</td>\n",
       "      <td>6</td>\n",
       "    </tr>\n",
       "  </tbody>\n",
       "</table>\n",
       "<p>5 rows × 40 columns</p>\n",
       "</div>"
      ],
      "text/plain": [
       "    ACD_avg  ACD_max  ACD_sum  FOUT_avg  FOUT_max  FOUT_sum   MLOC_avg  \\\n",
       "0  0.571429      4.0      4.0  5.980769      29.0     311.0   9.230769   \n",
       "1  0.000000      0.0      0.0  4.000000      22.0     168.0   6.666667   \n",
       "2  1.238095     14.0     26.0  4.321267      33.0     955.0   7.027149   \n",
       "3  0.555556      4.0      5.0  3.752941      80.0     319.0   6.517647   \n",
       "4  2.000000      5.0     18.0  6.552632      63.0     996.0  10.736842   \n",
       "\n",
       "   MLOC_max  MLOC_sum   NBD_avg  ...   PAR_avg  PAR_max  PAR_sum    TLOC_avg  \\\n",
       "0      55.0     480.0  1.826923  ...  1.173077      4.0     61.0  112.000000   \n",
       "1      32.0     280.0  1.357143  ...  1.095238      4.0     46.0  140.000000   \n",
       "2      83.0    1553.0  1.452489  ...  0.800905      4.0    177.0  116.000000   \n",
       "3     118.0     554.0  1.564706  ...  1.517647      7.0    129.0   99.444444   \n",
       "4      75.0    1632.0  2.052632  ...  0.796053      4.0    121.0  253.444444   \n",
       "\n",
       "   TLOC_max  TLOC_sum    VG_avg  VG_max  VG_sum  pre  \n",
       "0     277.0     784.0  2.576923    11.0   134.0    5  \n",
       "1     386.0     420.0  2.333333    15.0    98.0    2  \n",
       "2     679.0    2436.0  2.045249    19.0   452.0    9  \n",
       "3     219.0     895.0  2.411765    32.0   205.0    2  \n",
       "4     724.0    2281.0  2.809211    21.0   427.0    6  \n",
       "\n",
       "[5 rows x 40 columns]"
      ]
     },
     "execution_count": 2,
     "metadata": {},
     "output_type": "execute_result"
    }
   ],
   "source": [
    "df_train = pd.read_csv(\"./data/eclipse-metrics-packages-2.0.csv\", sep=\";\")\n",
    "\n",
    "# Only select columns with avg, max or sum in the name, corresponding to Table 1 of the paper\n",
    "X_train = df_train[df_train.columns[df_train.columns.str.contains(\"avg|max|sum\")]]\n",
    "\n",
    "# Add the column with the number of pre-release bugs\n",
    "X_train[\"pre\"] = df_train[\"pre\"]\n",
    "\n",
    "X_train.head()"
   ]
  },
  {
   "cell_type": "code",
   "execution_count": 3,
   "metadata": {},
   "outputs": [
    {
     "name": "stdout",
     "output_type": "stream",
     "text": [
      "Number of bugs in the training set: 190 (50%)\n"
     ]
    }
   ],
   "source": [
    "Y_train = df_train[\"post\"]\n",
    "# Transform the labels to binary, 0 if no bug, 1 if bug\n",
    "Y_train = np.where(Y_train > 0, 1, 0)\n",
    "\n",
    "print(f\"Number of bugs in the training set: {Y_train.sum()} ({Y_train.sum()/len(Y_train)*100:.0f}%)\")"
   ]
  },
  {
   "cell_type": "code",
   "execution_count": 4,
   "metadata": {},
   "outputs": [
    {
     "name": "stderr",
     "output_type": "stream",
     "text": [
      "C:\\Users\\denbe\\AppData\\Local\\Temp\\ipykernel_8748\\2055246899.py:4: SettingWithCopyWarning: \n",
      "A value is trying to be set on a copy of a slice from a DataFrame.\n",
      "Try using .loc[row_indexer,col_indexer] = value instead\n",
      "\n",
      "See the caveats in the documentation: https://pandas.pydata.org/pandas-docs/stable/user_guide/indexing.html#returning-a-view-versus-a-copy\n",
      "  X_test[\"pre\"] = df_test[\"pre\"]\n"
     ]
    },
    {
     "data": {
      "text/plain": [
       "((661, 40), (661,))"
      ]
     },
     "execution_count": 4,
     "metadata": {},
     "output_type": "execute_result"
    }
   ],
   "source": [
    "df_test = pd.read_csv(\"./data/eclipse-metrics-packages-3.0.csv\", sep=\";\")\n",
    "\n",
    "X_test = df_test[df_test.columns[df_test.columns.str.contains(\"avg|max|sum\")]]\n",
    "X_test[\"pre\"] = df_test[\"pre\"]\n",
    "\n",
    "Y_test = df_test[\"post\"]\n",
    "Y_test = np.where(Y_test > 0, 1, 0)\n",
    "\n",
    "X_test.shape, Y_test.shape"
   ]
  },
  {
   "cell_type": "markdown",
   "metadata": {},
   "source": [
    "### Logistic Regression\n",
    "\n",
    "The metrics as reported by Table 5 of the paper:\n",
    "\n",
    "| Logistic Regression model | Training | Testing | Defects | Precision | Recall | Accuracy |\n",
    "|---------------------------|----------|---------|---------|-----------|--------|----------|\n",
    "| Original                  | 2.0      | 3.0     | 0.474   | 0.786     | 0.588  | 0.729    |\n"
   ]
  },
  {
   "cell_type": "code",
   "execution_count": 5,
   "metadata": {},
   "outputs": [
    {
     "name": "stderr",
     "output_type": "stream",
     "text": [
      "C:\\Users\\denbe\\AppData\\Roaming\\Python\\Python39\\site-packages\\sklearn\\linear_model\\_logistic.py:458: ConvergenceWarning: lbfgs failed to converge (status=1):\n",
      "STOP: TOTAL NO. of ITERATIONS REACHED LIMIT.\n",
      "\n",
      "Increase the number of iterations (max_iter) or scale the data as shown in:\n",
      "    https://scikit-learn.org/stable/modules/preprocessing.html\n",
      "Please also refer to the documentation for alternative solver options:\n",
      "    https://scikit-learn.org/stable/modules/linear_model.html#logistic-regression\n",
      "  n_iter_i = _check_optimize_result(\n"
     ]
    },
    {
     "name": "stdout",
     "output_type": "stream",
     "text": [
      "Defects: 0.474, Precision: 0.783, Recall: 0.588, Accuracy: 0.728\n"
     ]
    }
   ],
   "source": [
    "# Logistic Regression model, trained on 2.0, tested on 3.0\n",
    "model = LogisticRegression()\n",
    "model.fit(X_train, Y_train)\n",
    "\n",
    "Y_pred = model.predict(X_test)\n",
    "\n",
    "# Calculate Precision, Recall and Accuracy\n",
    "defects = Y_test.sum() / len(Y_test)\n",
    "precision = precision_score(Y_test, Y_pred)\n",
    "recall = recall_score(Y_test, Y_pred)\n",
    "accuracy = accuracy_score(Y_test, Y_pred)\n",
    "\n",
    "print(f\"Defects: {defects:.3f}, Precision: {precision:.3f}, Recall: {recall:.3f}, Accuracy: {accuracy:.3f}\")"
   ]
  },
  {
   "cell_type": "markdown",
   "metadata": {},
   "source": [
    "### Data analysis"
   ]
  },
  {
   "cell_type": "code",
   "execution_count": 6,
   "metadata": {},
   "outputs": [
    {
     "name": "stdout",
     "output_type": "stream",
     "text": [
      "X_train.shape: (377, 40), X_test.shape: (661, 40)\n",
      "Number of bugs in the training set: 190 (50%)\n",
      "Number of bugs in the test set: 313 (47%)\n"
     ]
    }
   ],
   "source": [
    "print(f\"X_train.shape: {X_train.shape}, X_test.shape: {X_test.shape}\")\n",
    "print(f\"Number of bugs in the training set: {Y_train.sum()} ({Y_train.sum()/len(Y_train)*100:.0f}%)\")\n",
    "print(f\"Number of bugs in the test set: {Y_test.sum()} ({Y_test.sum()/len(Y_test)*100:.0f}%)\")"
   ]
  },
  {
   "cell_type": "code",
   "execution_count": 7,
   "metadata": {},
   "outputs": [
    {
     "data": {
      "text/html": [
       "<div>\n",
       "<style scoped>\n",
       "    .dataframe tbody tr th:only-of-type {\n",
       "        vertical-align: middle;\n",
       "    }\n",
       "\n",
       "    .dataframe tbody tr th {\n",
       "        vertical-align: top;\n",
       "    }\n",
       "\n",
       "    .dataframe thead th {\n",
       "        text-align: right;\n",
       "    }\n",
       "</style>\n",
       "<table border=\"1\" class=\"dataframe\">\n",
       "  <thead>\n",
       "    <tr style=\"text-align: right;\">\n",
       "      <th></th>\n",
       "      <th>mean</th>\n",
       "      <th>std</th>\n",
       "      <th>min</th>\n",
       "      <th>max</th>\n",
       "    </tr>\n",
       "  </thead>\n",
       "  <tbody>\n",
       "    <tr>\n",
       "      <th>pre</th>\n",
       "      <td>11.40</td>\n",
       "      <td>21.79</td>\n",
       "      <td>0.0</td>\n",
       "      <td>179.0</td>\n",
       "    </tr>\n",
       "    <tr>\n",
       "      <th>post</th>\n",
       "      <td>2.43</td>\n",
       "      <td>6.24</td>\n",
       "      <td>0.0</td>\n",
       "      <td>88.0</td>\n",
       "    </tr>\n",
       "  </tbody>\n",
       "</table>\n",
       "</div>"
      ],
      "text/plain": [
       "       mean    std  min    max\n",
       "pre   11.40  21.79  0.0  179.0\n",
       "post   2.43   6.24  0.0   88.0"
      ]
     },
     "execution_count": 7,
     "metadata": {},
     "output_type": "execute_result"
    }
   ],
   "source": [
    "# Concat min, avg, max of pre-release and post-release bugs\n",
    "desc_train = df_train[[\"pre\", \"post\"]].describe()[[\"pre\", \"post\"]].T\n",
    "\n",
    "# Only keep the columns avg, max or sum\n",
    "desc_train = desc_train[desc_train.columns[desc_train.columns.str.contains(\"mean|std|min|max\")]]\n",
    "\n",
    "desc_train.round(2)"
   ]
  },
  {
   "cell_type": "code",
   "execution_count": 8,
   "metadata": {},
   "outputs": [
    {
     "data": {
      "text/html": [
       "<div>\n",
       "<style scoped>\n",
       "    .dataframe tbody tr th:only-of-type {\n",
       "        vertical-align: middle;\n",
       "    }\n",
       "\n",
       "    .dataframe tbody tr th {\n",
       "        vertical-align: top;\n",
       "    }\n",
       "\n",
       "    .dataframe thead th {\n",
       "        text-align: right;\n",
       "    }\n",
       "</style>\n",
       "<table border=\"1\" class=\"dataframe\">\n",
       "  <thead>\n",
       "    <tr style=\"text-align: right;\">\n",
       "      <th></th>\n",
       "      <th>mean</th>\n",
       "      <th>std</th>\n",
       "      <th>min</th>\n",
       "      <th>max</th>\n",
       "    </tr>\n",
       "  </thead>\n",
       "  <tbody>\n",
       "    <tr>\n",
       "      <th>pre</th>\n",
       "      <td>7.03</td>\n",
       "      <td>15.75</td>\n",
       "      <td>0.0</td>\n",
       "      <td>220.0</td>\n",
       "    </tr>\n",
       "    <tr>\n",
       "      <th>post</th>\n",
       "      <td>2.32</td>\n",
       "      <td>5.54</td>\n",
       "      <td>0.0</td>\n",
       "      <td>65.0</td>\n",
       "    </tr>\n",
       "  </tbody>\n",
       "</table>\n",
       "</div>"
      ],
      "text/plain": [
       "      mean    std  min    max\n",
       "pre   7.03  15.75  0.0  220.0\n",
       "post  2.32   5.54  0.0   65.0"
      ]
     },
     "execution_count": 8,
     "metadata": {},
     "output_type": "execute_result"
    }
   ],
   "source": [
    "# Concat min, avg, max of pre-release and post-release bugs\n",
    "desc_test = df_test[[\"pre\", \"post\"]].describe()[[\"pre\", \"post\"]].T\n",
    "\n",
    "# Only keep the columns avg, max or sum\n",
    "desc_test = desc_test[desc_test.columns[desc_test.columns.str.contains(\"mean|std|min|max\")]]\n",
    "\n",
    "desc_test.round(2)"
   ]
  },
  {
   "cell_type": "code",
   "execution_count": 8,
   "metadata": {},
   "outputs": [
    {
     "name": "stdout",
     "output_type": "stream",
     "text": [
      "p-value: 0.000002; statistic: 26.227\n",
      "Decision Tree average accuracy: 0.684; std: 0.001\n",
      "Bagging average accuracy: 0.778; std: 0.008\n",
      "Random Forest average accuracy: 0.755; std: 0.006\n"
     ]
    }
   ],
   "source": [
    "from scipy import stats\n",
    "data_tree = [0.682, 0.685, 0.685, 0.685, 0.685, 0.685, 0.685, 0.682, 0.685, 0.685]\n",
    "data_bagging = [0.770, 0.772, 0.767, 0.790, 0.785, 0.787, 0.781, 0.772, 0.784, 0.770]\n",
    "data_rf = [0.767, 0.759, 0.756, 0.747, 0.755, 0.753, 0.756, 0.759, 0.747, 0.756]\n",
    "\n",
    "\n",
    "result = stats.kruskal(data_tree, data_bagging, data_rf)\n",
    "print(f\"p-value: {result.pvalue:.6f}; statistic: {result.statistic:.3f}\")\n",
    "\n",
    "# Print average accuracy of each model\n",
    "print(f\"Decision Tree average accuracy: {np.mean(data_tree):.3f}; std: {np.std(data_tree):.3f}\")\n",
    "print(f\"Bagging average accuracy: {np.mean(data_bagging):.3f}; std: {np.std(data_bagging):.3f}\")\n",
    "print(f\"Random Forest average accuracy: {np.mean(data_rf):.3f}; std: {np.std(data_rf):.3f}\")"
   ]
  }
 ],
 "metadata": {
  "kernelspec": {
   "display_name": "Python 3",
   "language": "python",
   "name": "python3"
  },
  "language_info": {
   "codemirror_mode": {
    "name": "ipython",
    "version": 3
   },
   "file_extension": ".py",
   "mimetype": "text/x-python",
   "name": "python",
   "nbconvert_exporter": "python",
   "pygments_lexer": "ipython3",
   "version": "3.9.11"
  },
  "orig_nbformat": 4
 },
 "nbformat": 4,
 "nbformat_minor": 2
}
